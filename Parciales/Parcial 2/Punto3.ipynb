{
 "cells": [
  {
   "cell_type": "code",
   "execution_count": 1,
   "id": "dc7b362d-09f1-4f0a-a523-4da26a0f15e7",
   "metadata": {},
   "outputs": [],
   "source": [
    "import numpy as np\n",
    "from scipy import integrate\n",
    "import matplotlib.pyplot as plt"
   ]
  },
  {
   "cell_type": "markdown",
   "id": "dc826d2d-1592-4c4c-b978-0160403d4a89",
   "metadata": {},
   "source": [
    "# Parte A\n",
    "---\n",
    "En este caso nos piden las ecuaciones diferenciales. Por lo tanto lo que necesitamos es deducir de donde nace. Podemos saber por el propio enunciado que $$\\frac{dN_A}{dt} = -\\lambda_A N_A$$. Por otro lado para $B$ seria lo que le entra menos lo que le sale. Lo que sale sabemos que es $-\\lambda_B N_B$ y lo que le entra es la derivada de $A$. Por lo tanto queda $$\\frac{dN_B}{dt} = \\lambda_A N_A - \\lambda_B N_B$$ ponemos la derivada de $A$ en valor absoluto puesto que esta es una derivada negativa y en verdad nos interesa que sume (sin embargo se ve mas bonito y es mas facil de interpretar este valor absoluto). Por ultimo, en $C$ solo recibimos lo que viene de $B$ por lo que queda $$\\frac{dN_C}{dt} = \\lambda_B N_B$$. Por lo tanto el sistema queda como:\n",
    "$$\n",
    "\\begin{align}\n",
    "\\frac{dN_A}{dt} &= -\\lambda_A N_A\\\\\n",
    "\\frac{dN_B}{dt} &= \\lambda_A N_A - \\lambda_B N_B\\\\\n",
    "\\frac{dN_C}{dt} &= \\lambda_B N_B\n",
    "\\end{align}\n",
    "$$\n",
    "\n",
    "---\n",
    "# Parte B\n",
    "---"
   ]
  },
  {
   "cell_type": "code",
   "execution_count": 2,
   "id": "38c22d48-1a53-4e18-b645-4f466646f9d5",
   "metadata": {},
   "outputs": [],
   "source": [
    "def System(r,t,lA=0.5, lB=0.3):\n",
    "    Na, Nb, Nc = r\n",
    "    dNadt = -lA*Na\n",
    "    dNbdt = lA*Na - lB*Nb\n",
    "    dNcdt = lB*Nb\n",
    "    return np.array([dNadt,dNbdt,dNcdt])"
   ]
  },
  {
   "cell_type": "code",
   "execution_count": 3,
   "id": "99bfa32f-328a-438f-967d-c8031e3f17df",
   "metadata": {},
   "outputs": [],
   "source": [
    "r0 = (500, 0, 0)\n",
    "t = np.linspace(0, 10, 45)"
   ]
  },
  {
   "cell_type": "code",
   "execution_count": 4,
   "id": "306baa31-51e0-4906-9e73-606cef3142fb",
   "metadata": {},
   "outputs": [],
   "source": [
    "sol = integrate.odeint(System,r0,t,args=(.5,))\n",
    "# Ya aqui deberia estar integrado. Verifiquemos simplemente graficando"
   ]
  },
  {
   "cell_type": "code",
   "execution_count": 5,
   "id": "1055867c-8c87-4ff3-897d-57d2276321df",
   "metadata": {},
   "outputs": [
    {
     "data": {
      "image/png": "[encoded data removed]",
      "text/plain": [
       "<Figure size 640x480 with 1 Axes>"
      ]
     },
     "metadata": {},
     "output_type": "display_data"
    }
   ],
   "source": [
    "# Aqui mostramos la cantidad de particulas en B y en C con respecto a las que hay en A\n",
    "plt.plot(sol[:,0],sol[:,1])\n",
    "plt.plot(sol[:,0],sol[:,2])\n",
    "plt.show()\n",
    "plt.close()"
   ]
  },
  {
   "cell_type": "markdown",
   "id": "0c00649f-59f7-4485-841b-22dff16706bc",
   "metadata": {},
   "source": [
    "---\n",
    "# Parte C\n",
    "---\n",
    "\n",
    "Las funciones que aqui se utilizan son alteradas del repositorio de la clase en particular de este [archivo](https://github.com/asegura4488/MetodosComputacionalesII/blob/main/Week4/AdaptativoVectorizado.ipynb)."
   ]
  },
  {
   "cell_type": "code",
   "execution_count": 6,
   "id": "b16fd880-76b8-4c09-9549-dafa94ce2f97",
   "metadata": {},
   "outputs": [],
   "source": [
    "def Increment(f,r,t,h):\n",
    "    \n",
    "    state1 = np.array([r[0],r[1], r[2]])\n",
    "    K1 = f(state1,t)\n",
    "    \n",
    "    state2 = np.array([r[0]+0.5*h*K1[0],r[1]+0.5*h*K1[1], r[2] + 0.5*h*K1[2]])\n",
    "    K2 = f(state2,t+0.5*h)\n",
    "    \n",
    "    state3 = np.array([r[0]+0.5*h*K2[0],r[1]+0.5*h*K2[1],r[2]+0.5*h*K2[2]])\n",
    "    K3 = f(state3,t+0.5*h)\n",
    "    \n",
    "    state4 = np.array([r[0]+h*K3[0],r[1]+h*K3[1],r[2]+h*K3[2]])\n",
    "    K4 = f(state4, t+h)\n",
    "    \n",
    "    Deltaf = h*(K1+2*K2+2*K3+K4)/6\n",
    "    \n",
    "    return r+Deltaf"
   ]
  },
  {
   "cell_type": "code",
   "execution_count": 7,
   "id": "7a02d711-1c3f-4633-a69c-99f2396b8dc2",
   "metadata": {},
   "outputs": [],
   "source": [
    "def CheckStep(Delta1,Delta2,Delta3,h,minimo=1e-2,maximo=1e-1):\n",
    "    \n",
    "    tolerancia = 0.001\n",
    "    \n",
    "    Delta1 = np.abs(Delta1)\n",
    "    Delta2 = np.abs(Delta2)\n",
    "    Delta3 = np.abs(Delta3)\n",
    "    \n",
    "    if Delta1 < tolerancia:\n",
    "        h = minimo\n",
    "        dx = Delta1\n",
    "        \n",
    "    else:\n",
    "        \n",
    "        if np.abs((Delta1 - Delta2))/Delta1 > maximo:\n",
    "            h = 0.5*h\n",
    "            dx = Delta2\n",
    "        \n",
    "        elif np.abs((Delta1-Delta3))/Delta1 < minimo:\n",
    "            h = 2*h\n",
    "            dx = Delta3\n",
    "        \n",
    "        else:\n",
    "            dx = Delta1\n",
    "            \n",
    "    return dx,h"
   ]
  },
  {
   "cell_type": "code",
   "execution_count": 8,
   "id": "29bd583b-556f-4ffc-8631-de0bc91de172",
   "metadata": {},
   "outputs": [],
   "source": [
    "def Adaptativo(f,x0,t):\n",
    "    \n",
    "    h = t[1] - t[0]\n",
    "    \n",
    "    tf = t[-1]\n",
    "    t = t[0]\n",
    "    \n",
    "    r = r0\n",
    "    \n",
    "    Time = np.array([t])\n",
    "    Vector = r\n",
    "    \n",
    "    Steps = np.array([h])\n",
    "    \n",
    "    while t < tf :\n",
    "        Delta1 = Increment(f,r,t,h)\n",
    "        Delta2 = Increment(f,r,t,0.5*h)\n",
    "        Delta3 = Increment(f,r,t,2*h)\n",
    "    \n",
    "        Deltas = Delta1.copy()\n",
    "        ht = Delta1.copy()\n",
    "        \n",
    "        for i in range(Delta1.shape[0]):\n",
    "            Deltas[i],ht[i] = CheckStep(Delta1[i],Delta2[i],Delta3[i],h)\n",
    "    \n",
    "    \n",
    "        h = np.mean(ht)\n",
    "        t += h\n",
    "        \n",
    "        r = Increment(f,r,t,h)\n",
    "        \n",
    "        \n",
    "        Steps = np.append(Steps,h )\n",
    "        Time = np.append(Time,t)\n",
    "        Vector = np.vstack((Vector,r))\n",
    "        \n",
    "    print(len(Steps))\n",
    "    return Time,Vector,Steps"
   ]
  },
  {
   "cell_type": "code",
   "execution_count": 9,
   "id": "d631ad44-6860-45be-ac86-da4362bb23fd",
   "metadata": {},
   "outputs": [],
   "source": [
    "def adaptativo(f,r0,t,e=1e-4):\n",
    "\n",
    "    h = t[1]-t[0]\n",
    "    tf = t[-1]\n",
    "    ti = t[0]\n",
    "    r = r0\n",
    "\n",
    "    Time = np.array([ti])\n",
    "    Vector = r\n",
    "\n",
    "    Steps = np.array([h])\n",
    "\n",
    "    while ti < tf:\n",
    "        r1 = Increment(f,r,t,h)\n",
    "        r2 = Increment(f,r1,t+h,h)\n",
    "        rt = Increment(f,r,t,2*h)\n",
    "\n",
    "        error = np.linalg.norm(r2-rt)\n",
    "\n",
    "        if error < e:\n",
    "            ti += 2*h\n",
    "            r = rt\n",
    "\n",
    "            Steps = np.append(Steps,h)\n",
    "            Time = np.append(Time,ti)\n",
    "            Vector = np.vstack((Vector,r))\n",
    "\n",
    "        q = 0.85 * (e/error)**(1/4)\n",
    "        h = h*q\n",
    "\n",
    "        \n",
    "    return Time, Vector, Steps\n",
    "\n",
    "time, x1, steps = adaptativo(System, r0, t)"
   ]
  },
  {
   "cell_type": "markdown",
   "id": "63c45267-9f7c-40ff-b92e-a461d9726757",
   "metadata": {},
   "source": [
    "---\n",
    "# Parte D\n",
    "---"
   ]
  },
  {
   "cell_type": "code",
   "execution_count": 10,
   "id": "c91ce98c-443c-48e7-9f6f-013600a5b413",
   "metadata": {},
   "outputs": [
    {
     "name": "stdout",
     "output_type": "stream",
     "text": [
      "67\n"
     ]
    }
   ],
   "source": [
    "r0 = (500, 0, 0)\n",
    "t = np.linspace(0,10,45)\n",
    "res = Adaptativo(System,r0,t)\n",
    "# Ya en teoria debio funcionar."
   ]
  },
  {
   "cell_type": "code",
   "execution_count": 11,
   "id": "146de166-0bd1-4cb2-98c2-1357def33627",
   "metadata": {},
   "outputs": [
    {
     "data": {
      "image/png": "[encoded data removed]",
      "text/plain": [
       "<Figure size 640x480 with 1 Axes>"
      ]
     },
     "metadata": {},
     "output_type": "display_data"
    },
    {
     "name": "stdout",
     "output_type": "stream",
     "text": [
      "38\n"
     ]
    }
   ],
   "source": [
    "plt.scatter(sol[:,0],sol[:,1],marker='.')\n",
    "plt.scatter(x1[:,0],x1[:,1],marker='.')\n",
    "plt.show()\n",
    "plt.close()\n",
    "print(len(x1))"
   ]
  },
  {
   "cell_type": "code",
   "execution_count": 12,
   "id": "43d04abf-f1dc-43b9-8356-ae32792a5add",
   "metadata": {},
   "outputs": [
    {
     "data": {
      "image/png": "[encoded data removed]",
      "text/plain": [
       "<Figure size 640x480 with 1 Axes>"
      ]
     },
     "metadata": {},
     "output_type": "display_data"
    }
   ],
   "source": [
    "plt.scatter(sol[:,0],sol[:,2],marker='.')\n",
    "plt.scatter(x1[:,0],x1[:,2],marker='.')\n",
    "plt.show()\n",
    "plt.close()"
   ]
  },
  {
   "cell_type": "markdown",
   "id": "4bec53bb-d5a4-46b8-867c-4bc42d9fb04f",
   "metadata": {},
   "source": [
    "---\n",
    "# Parte E\n",
    "---\n",
    "Como se puede ver la precisión de ambas graficas coinciden estrictamente pues le pedimos a odeint un error muy pequeño que hace que se vean muy similares."
   ]
  },
  {
   "cell_type": "code",
   "execution_count": null,
   "id": "e45af0b4-18a6-4a5a-9d82-ed7d1ab59d0b",
   "metadata": {},
   "outputs": [],
   "source": []
  }
 ],
 "metadata": {
  "kernelspec": {
   "display_name": "Python 3 (ipykernel)",
   "language": "python",
   "name": "python3"
  },
  "language_info": {
   "codemirror_mode": {
    "name": "ipython",
    "version": 3
   },
   "file_extension": ".py",
   "mimetype": "text/x-python",
   "name": "python",
   "nbconvert_exporter": "python",
   "pygments_lexer": "ipython3",
   "version": "3.12.1"
  }
 },
 "nbformat": 4,
 "nbformat_minor": 5
}
