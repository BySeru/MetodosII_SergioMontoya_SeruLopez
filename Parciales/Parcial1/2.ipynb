{
  "nbformat": 4,
  "nbformat_minor": 0,
  "metadata": {
    "colab": {
      "provenance": []
    },
    "kernelspec": {
      "name": "python3",
      "display_name": "Python 3"
    },
    "language_info": {
      "name": "python"
    }
  },
  "cells": [
    {
      "cell_type": "markdown",
      "source": [
        "# Librerías\n",
        "---"
      ],
      "metadata": {
        "id": "D4kskGfX6mwa"
      }
    },
    {
      "cell_type": "code",
      "execution_count": 28,
      "metadata": {
        "id": "NTppZjak6gDW"
      },
      "outputs": [],
      "source": [
        "import numpy as np\n",
        "import matplotlib.pyplot as plt\n",
        "from scipy import integrate"
      ]
    },
    {
      "cell_type": "markdown",
      "source": [
        "### Funciones y Variables\n",
        "---"
      ],
      "metadata": {
        "id": "aRWSWECK7Pnw"
      }
    },
    {
      "cell_type": "code",
      "source": [
        "m = 1\n",
        "L = 1\n",
        "g = 9.81\n",
        "h = 0.01\n",
        "theta_0 = np.radians(10)\n",
        "theta_vel = 0\n",
        "beta = 0.002\n",
        "gamma = 0.5\n",
        "\n",
        "r0 = np.array([theta_0, 0])\n",
        "t = np.linspace(0,1)"
      ],
      "metadata": {
        "id": "FOndwiezAQQZ"
      },
      "execution_count": 29,
      "outputs": []
    },
    {
      "cell_type": "code",
      "source": [
        "def ddtheta(theta,dtheta):\n",
        "    return (2*g/L-dtheta**2*np.cos(theta))*np.sin(theta)/(1/3 + np.sin(theta)**2)\n",
        "\n",
        "def ddotthetadt(theta,dtheta):\n",
        "    return (2*g/L-dtheta**2*np.cos(theta))*np.sin(theta)/(1/3 + np.sin(theta)**2)\n",
        "\n",
        "def theta(theta,dtheta,ddtheta,t):\n",
        "    return theta + dtheta*t + 0.5*ddtheta*t**2\n",
        "\n",
        "\n",
        "def GetEuler2System(f0,f1,init_cond,t):\n",
        "    h = t[1] - t[0]\n",
        "    theta = np.zeros_like(t)\n",
        "    dtheta = np.zeros_like(t)\n",
        "\n",
        "    theta[0] = init_cond[0]\n",
        "    dtheta[0] = init_cond[1]\n",
        "\n",
        "    K1 = np.zeros(3)\n",
        "    K2 = np.zeros(3)\n",
        "\n",
        "    for i in range(1,len(t)):\n",
        "        K1[0] = f0(theta[i-1],dtheta[i-1],ddotthetadt(theta[i-1],dtheta[i-1]),t[i-1])\n",
        "        K1[1] = f1(theta[i-1],dtheta[i-1])\n",
        "\n",
        "        K2[0] = f0(theta[i-1]+h*K1[0],dtheta[i-1]+h*K1[1],ddotthetadt(theta[i-1]+h*K1[0],dtheta[i-1]+h*K1[1]),t[i-1])\n",
        "        K2[1] = f1(theta[i-1]+h*K1[0],dtheta[i-1]+h*K1[1])\n",
        "\n",
        "        theta[i] = theta[i-1] + 0.5*h*(K1[0]+K2[0])\n",
        "        dtheta[i] = dtheta[i-1] + 0.5*h*(K1[1]+K2[1])\n",
        "\n",
        "    return theta,dtheta"
      ],
      "metadata": {
        "id": "WnDZKhKdN6HE"
      },
      "execution_count": 30,
      "outputs": []
    },
    {
      "cell_type": "markdown",
      "source": [
        "### Gráfica\n",
        "---"
      ],
      "metadata": {
        "id": "bYU_treHHYH-"
      }
    },
    {
      "cell_type": "code",
      "source": [
        "theta,dtheta = GetEuler2System(theta,ddtheta,r0,t)\n",
        "\n",
        "x = (L/2)*np.sin(theta)\n",
        "y = (L/2)*np.cos(theta)"
      ],
      "metadata": {
        "id": "GyOrIKRjOp9z"
      },
      "execution_count": 31,
      "outputs": []
    },
    {
      "cell_type": "code",
      "source": [
        "figure = plt.figure(figsize=(10,5))\n",
        "ax1 = figure.add_subplot(111)\n",
        "ax1.set_xlim(0,0.6)\n",
        "ax1.set_ylim(0,0.6)\n",
        "ax1.grid()\n",
        "ax1.scatter(x,y)"
      ],
      "metadata": {
        "colab": {
          "base_uri": "https://localhost:8080/",
          "height": 468
        },
        "id": "xqFf58ERF7ho",
        "outputId": "b6cde206-5fdb-4aa1-b951-beb1383da306"
      },
      "execution_count": 32,
      "outputs": [
        {
          "output_type": "execute_result",
          "data": {
            "text/plain": [
              "<matplotlib.collections.PathCollection at 0x7f0769ecc940>"
            ]
          },
          "metadata": {},
          "execution_count": 32
        },
        {
          "output_type": "display_data",
          "data": {
            "text/plain": [
              "<Figure size 1000x500 with 1 Axes>"
            ],
            "image/png": "[encoded data removed]"
          },
          "metadata": {}
        }
      ]
    },
    {
      "cell_type": "code",
      "source": [],
      "metadata": {
        "id": "iMRJ4mJbOn28"
      },
      "execution_count": 32,
      "outputs": []
    }
  ]
}