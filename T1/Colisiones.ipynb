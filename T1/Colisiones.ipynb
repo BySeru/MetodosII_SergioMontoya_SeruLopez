{
 "cells": [
  {
   "cell_type": "markdown",
   "id": "cc4b1c0c",
   "metadata": {},
   "source": [
    "### Punto 2"
   ]
  },
  {
   "cell_type": "code",
   "execution_count": 5,
   "id": "693efd9e",
   "metadata": {},
   "outputs": [],
   "source": [
    "%matplotlib widget\n",
    "import numpy as np\n",
    "import matplotlib.pyplot as plt\n",
    "import matplotlib.animation as anim\n",
    "from tqdm import tqdm"
   ]
  },
  {
   "cell_type": "code",
   "execution_count": 6,
   "id": "4db3fba5",
   "metadata": {},
   "outputs": [],
   "source": [
    "class Particle:\n",
    "    \n",
    "    def __init__(self, r0, v0, a0, t, m=1, radius=2., Id=0):\n",
    "        \n",
    "        self.dt = t[1] - t[0]\n",
    "        \n",
    "        \n",
    "        # Atributos instantaneos\n",
    "        self.r = r0\n",
    "        self.v = v0\n",
    "        self.a = a0\n",
    "        \n",
    "        self.m = m\n",
    "        self.radius = radius\n",
    "        self.Id = Id\n",
    "        \n",
    "        \n",
    "        self.p = self.m*self.v\n",
    "        \n",
    "        self.f = self.m*self.a\n",
    "        \n",
    "        # Historial\n",
    "        \n",
    "        self.R = np.zeros((len(t),len(r0)))\n",
    "        self.V = np.zeros_like(self.R)\n",
    "        self.A = np.zeros_like(self.R)\n",
    "        \n",
    "        self.F = np.zeros_like(self.R)\n",
    "        \n",
    "        self.P = np.zeros_like(self.R)\n",
    "    \n",
    "        # Fisica\n",
    "        self.K = 20.\n",
    "        \n",
    "        self.VEk = np.zeros(len(t))\n",
    "        # Tarea\n",
    "        self.Ep = 0\n",
    "        self.L = np.zeros(len(t))\n",
    "        self.VEp = np.zeros(len(t))\n",
    "        \n",
    "    def Evolution(self,i):\n",
    "        \n",
    "        \n",
    "        self.SetPosition(i)\n",
    "        self.SetVelocity(i)\n",
    "        \n",
    "        self.a = self.f/self.m\n",
    "        \n",
    "        # Euler\n",
    "  #      self.r += self.dt*self.v\n",
    "  #      self.v += self.dt*self.a\n",
    "        \n",
    "        # Euler-Cromer\n",
    "        self.v += self.dt*self.a\n",
    "        self.r += self.dt*self.v\n",
    "        \n",
    "        \n",
    "    def CalculateForce(self,p):\n",
    "        \n",
    "        d = np.linalg.norm(self.r - p.r)\n",
    "        \n",
    "        compresion = self.radius + p.radius - d\n",
    "        \n",
    "        if compresion >= 0:\n",
    "            \n",
    "            Fn = self.K * compresion**3\n",
    "            \n",
    "            self.n = (self.r - p.r)/d     \n",
    "            self.f = np.add(self.f,Fn*self.n)\n",
    "            # Falta implementar energía potencial \n",
    "            self.Ep = (1/4)*self.K*compresion**4\n",
    "     \n",
    "    # Aca debes agregar la energía potencial\n",
    "    def ResetForce(self):\n",
    "        self.f[:] = 0.\n",
    "        self.a[:] = 0.\n",
    "    \n",
    "    # Setter\n",
    "    def SetPosition(self,i):\n",
    "        self.R[i] = self.r\n",
    "    \n",
    "    def SetVelocity(self,i):\n",
    "        self.V[i] = self.v\n",
    "        self.P[i] = self.m*self.v\n",
    "        self.VEk[i] = 0.5*self.m*np.dot(self.v,self.v)\n",
    "        # Agregados para la tarea:\n",
    "        self.L[i] = np.cross(self.r,self.m*self.v)\n",
    "        self.VEp[i] = self.Ep\n",
    "    \n",
    "    # Getter\n",
    "    def GetPosition(self,scale=1):\n",
    "        return self.R[::scale]\n",
    "    \n",
    "    def GetVelocity(self,scale=1):\n",
    "        return self.V[::scale]\n",
    " \n",
    "    def GetMomentum(self,scale=1):\n",
    "        return self.P[::scale]\n",
    "    \n",
    "    def GetKineticEnergy(self,scale=1):\n",
    "        return self.VEk[::scale]\n",
    "\n",
    "    def GetAngularMomentum(self,scale=1):\n",
    "        return self.L[::scale]\n",
    "\n",
    "    def GetPotential(self, scale=1):\n",
    "        return self.VEp[::scale]\n",
    "    # Debes agregar las paredes en este punto\n",
    "    def CheckLimits(self):\n",
    "        \n",
    "        for i in range(2):\n",
    "            \n",
    "            if self.r[i] + self.radius > 20 and self.v[i] > 0.:\n",
    "                self.v[i] = -self.v[i]\n",
    "            elif self.r[i] - self.radius < -20 and self.v[i] < 0.:\n",
    "                self.v[i] = -self.v[i]"
   ]
  },
  {
   "cell_type": "code",
   "execution_count": 7,
   "id": "372e6b52",
   "metadata": {},
   "outputs": [],
   "source": [
    "def GetParticles(N,t):\n",
    "    \n",
    "    Particles = []\n",
    "\n",
    "    for i in range(N):\n",
    "        r = np.random.uniform(-20, 20, 2)\n",
    "        v = np.random.uniform(-5, 5, 2)\n",
    "        a = np.array([0.,0.])\n",
    "        p = Particle(r,v,a,t,m=1,radius=2,Id=i)\n",
    "        Particles.append(p)\n",
    "    \n",
    "    # Aca deber agregar una rutina montecarlo para crear particulas\n",
    "    # sobre el plano con velocidades aleatorias.\n",
    "    \n",
    "    return Particles"
   ]
  },
  {
   "cell_type": "code",
   "execution_count": 8,
   "id": "56e67631",
   "metadata": {},
   "outputs": [],
   "source": [
    "dt = 0.001\n",
    "tmax = 5\n",
    "t = np.arange(0,tmax,dt)\n",
    "Particles = GetParticles(10,t)"
   ]
  },
  {
   "cell_type": "code",
   "execution_count": 9,
   "id": "edf88a8c",
   "metadata": {},
   "outputs": [],
   "source": [
    "def RunSimulation(t,Particles):\n",
    "    \n",
    "    for it in tqdm(range(len(t)), desc='Running simulation', unit=' Steps' ):\n",
    "        \n",
    "        for i in range(len(Particles)):\n",
    "            for j in range(len(Particles)):\n",
    "                if i!=j:\n",
    "                    Particles[i].CalculateForce(Particles[j])\n",
    "        \n",
    "        for i in range(len(Particles)):\n",
    "            Particles[i].Evolution(it)\n",
    "            Particles[i].ResetForce()\n",
    "            Particles[i].CheckLimits()\n",
    "            # Aca debes agregar la interaccion con la pared\n",
    "            \n",
    "            \n",
    "    return Particles"
   ]
  },
  {
   "cell_type": "code",
   "execution_count": 10,
   "id": "bcac242d",
   "metadata": {},
   "outputs": [
    {
     "name": "stderr",
     "output_type": "stream",
     "text": [
      "Running simulation:   2%|▏         | 95/5000 [00:00<00:05, 941.31 Steps/s]"
     ]
    },
    {
     "name": "stderr",
     "output_type": "stream",
     "text": [
      "Running simulation: 100%|██████████| 5000/5000 [00:05<00:00, 993.22 Steps/s] \n"
     ]
    }
   ],
   "source": [
    "Particles = RunSimulation(t,Particles)"
   ]
  },
  {
   "cell_type": "code",
   "execution_count": 11,
   "id": "32609fcd",
   "metadata": {},
   "outputs": [],
   "source": [
    "# Bajamos dimensión de la simulacion\n",
    "scale = 100\n",
    "t1 = t[::scale]"
   ]
  },
  {
   "cell_type": "markdown",
   "id": "f86d6dd8-6cf5-4a55-967d-ccdeb8f1a491",
   "metadata": {},
   "source": [
    "# A) Grafique el momento lineal total en x (px) en función del tiempo. Se debería conservar"
   ]
  },
  {
   "cell_type": "code",
   "execution_count": 12,
   "id": "97ba705a",
   "metadata": {},
   "outputs": [
    {
     "data": {
      "image/png": "[encoded data removed]",
      "text/plain": [
       "<Figure size 1000x500 with 2 Axes>"
      ]
     },
     "metadata": {},
     "output_type": "display_data"
    }
   ],
   "source": [
    "fig = plt.figure(figsize=(10,5))\n",
    "ax = fig.add_subplot(121)\n",
    "ax1 = fig.add_subplot(122)\n",
    "\n",
    "def init():\n",
    "    \n",
    "    ax.clear()\n",
    "    ax.set_xlim(-20,20)\n",
    "    ax.set_ylim(-20,20)\n",
    "    \n",
    "def Update(i):\n",
    "    \n",
    "    init()\n",
    "    ax.set_title(r't =  %.3f s' %(t1[i]))\n",
    "    \n",
    "    \n",
    "    # Queremos calcular la energía total de cinética\n",
    "    KE = 0. # Kinetic energy\n",
    "    \n",
    "    for p in Particles:\n",
    "        \n",
    "        x = p.GetPosition(scale)[i,0]\n",
    "        y = p.GetPosition(scale)[i,1]\n",
    "        \n",
    "        vx = p.GetVelocity(scale)[i,0]\n",
    "        vy = p.GetVelocity(scale)[i,1]\n",
    "        \n",
    "        circle = plt.Circle( (x,y), p.radius, color='r', fill=False )\n",
    "        ax.add_patch(circle)\n",
    "        \n",
    "        ax.arrow(x,y,vx,vy,color='k',head_width=0.5,length_includes_head=True)\n",
    "        \n",
    "        KE += p.GetKineticEnergy(scale)[i]\n",
    "        \n",
    "        ax1.set_title(r'Total kinetic Energy: {:.3f}'.format(KE))\n",
    "        ax1.scatter(t1[:i], p.GetKineticEnergy(scale)[:i],color='k',marker='.')\n",
    "        \n",
    "Animation = anim.FuncAnimation(fig,Update,frames=len(t1),init_func=init)"
   ]
  },
  {
   "cell_type": "markdown",
   "id": "46f44cec-1bf7-4047-826e-4fb03b8e1dc5",
   "metadata": {},
   "source": [
    "# B) Grafique el momento lineal total en y (py) en función del tiempo. Se debería conservar"
   ]
  },
  {
   "cell_type": "code",
   "execution_count": 13,
   "id": "1a74d929",
   "metadata": {},
   "outputs": [],
   "source": [
    "MomentumT = Particles[0].GetMomentum(scale)"
   ]
  },
  {
   "cell_type": "code",
   "execution_count": 14,
   "id": "c5812ac9",
   "metadata": {},
   "outputs": [],
   "source": [
    "for i in range(1,len(Particles)):\n",
    "    MomentumT = np.add(MomentumT,Particles[i].GetMomentum(scale))"
   ]
  },
  {
   "cell_type": "code",
   "execution_count": 15,
   "id": "089b50b5",
   "metadata": {},
   "outputs": [
    {
     "data": {
      "text/plain": [
       "<matplotlib.legend.Legend at 0x16dd7421c70>"
      ]
     },
     "execution_count": 15,
     "metadata": {},
     "output_type": "execute_result"
    },
    {
     "data": {
      "image/png": "[encoded data removed]",
      "text/plain": [
       "<Figure size 1000x500 with 1 Axes>"
      ]
     },
     "metadata": {},
     "output_type": "display_data"
    }
   ],
   "source": [
    "fig3 = plt.figure(figsize=(10,5))\n",
    "ax3 = fig3.add_subplot(221)\n",
    "ax3.plot(t1,MomentumT[:,0],label='px')\n",
    "ax3.plot(t1,MomentumT[:,1],label='py')\n",
    "ax3.legend()"
   ]
  },
  {
   "cell_type": "markdown",
   "id": "f89fcd50-cd35-46cc-8be4-7f920cc0ff21",
   "metadata": {},
   "source": [
    "# C) Teóricamente muestre que la fuerza de contacto es conservativa. Encuentre la energía potencial.\n",
    "En este caso partimos de la ecuación para la fuerza de contacto entre dos esferas\n",
    "$$\n",
    "\\begin{align*}\n",
    "\\vec{ f }(\\vec{r}_1,\\vec{r}_2) = K[R1 + R2 - |\\vec{r}_1-\\vec{r}_2|]^3\\hat{n}\n",
    "\\end{align*}\n",
    "$$\n",
    "Ahora bien, poniendo esta ecuación en cordenadas polares centradas en una de estas particulas (para que valgan 0 sus parametros) nos queda:\n",
    "$$\n",
    "\\vec{f}(x,y)=K[R1 + R2 - \\sqrt{x^2 + y^2}]^3\\left(\\frac{\\vec{x}_i}{\\sqrt{x^2+y^2}},\\frac{\\vec{y}_i}{\\sqrt{x^2+y^2}},0\\right)\n",
    "$$\n",
    "\n",
    "Ahora bien, si sacamos el rotacional de esta ecuación. nos daremos cuenta de que este es nulo. por lo tanto esta fuerza es conservativa.\n",
    "\n",
    "Ahora bien. para la ecuación original tomemos $[R1 + R2 - |\\vec{r}_1-\\vec{r}_2|] = r$. Ahora, desarrollemos de la siguiente manera:\n",
    "$$\n",
    "\\begin{align*}\n",
    "\\vec{f}(r) = Kr^3\\hat{n}\\\\\n",
    "\\int_r^0 \\vec{f}(r)dr = K \\frac{r^4}{4}\\\\\n",
    "\\end{align*}\n",
    "$$\n",
    "\n",
    "Ahora bien, tambien tenemos que definir una función potencial que en este caso tomaremos que la función potencial $U$ para la fuerza $f$ es\n",
    "$$\n",
    "f = -\\nabla U = - \\frac{\\partial U (r)}{\\partial r}\\hat{r}\n",
    "$$\n",
    "\n",
    "por lo tanto, terminamos con\n",
    "$$\n",
    "-\\frac{\\partial K \\frac{r^4}{4}}{\\partial r}\\hat{r} = -Kr^3\\hat{n}=\\vec{f}\n",
    "$$\n",
    "\n",
    "por lo tanto, esta es la función que buscamos"
   ]
  },
  {
   "cell_type": "markdown",
   "id": "9c4416c3-702c-46f2-8e77-6a5d9c343f15",
   "metadata": {},
   "source": [
    "# D) rafique la energía cinética total en función del tiempo. Se conserva?\n",
    "La energia cinetica se conserva en los estados pos y pre choque pero no se conserva durante el choque (pues en ese caso obtenemos algo de energia potencial representada por la rigides de la propia esfera) Puede mirar la grafica de la figura 1 en donde esta esta grafica solicitada."
   ]
  },
  {
   "cell_type": "markdown",
   "id": "284cc4a5-51ad-4ad6-aae6-6b30010943ca",
   "metadata": {},
   "source": [
    "# E) Grafique la energía potencial total en función del tiempo. ¿Qué significa que el potencial sea positivo?\n",
    "\n",
    "Dado que el potencial es positivo y tomando en cuenta la definición de potencial que se dio en el punto *C* significaria que las particulas estan en un estado no ligado y por lo tanto que se repelerian."
   ]
  },
  {
   "cell_type": "markdown",
   "id": "9d506f54-41a6-4f6e-8221-cd591afc2fed",
   "metadata": {},
   "source": [
    "# F) Grafique la energía mecánica total en funcion del tiempo. Se conserva? Explique a nivel físico y a nivel del método de Euler.\n",
    "\n",
    "La energia mecanica de manera teorica se deberia conservar por completo. Sin embargo, este no es el caso y no se cumple. Ahora tendriamos que considerar las posibles causas de este proceso. En el primer caso la energia total se podria conservar pero se tendria que considerar las posibles perdidas que se tuvieron en forma de calor y deformaciónes "
   ]
  },
  {
   "cell_type": "markdown",
   "id": "1fe744c6-d226-4833-b63c-3c25301b8b92",
   "metadata": {},
   "source": [
    "# G) Se cumple el teorema del trabajo y la energía en su simulación? Argumente.\n",
    "\n",
    "Dado que para el teorema de la energia y el trabajo necesitariamos que se cumpla:\n",
    "$$\n",
    "\\Delta K = - \\Delta W\n",
    "$$\n",
    "\n",
    "y teniendo este resultado desde puntos anteriores (en especifico el *C*) podemos decir que se cumple. Aunque debemos considerar de las discrepancias que tenemos y de las que hablamos en el punto directamente anterior."
   ]
  },
  {
   "cell_type": "markdown",
   "id": "b9f85c6c-5354-4457-b583-2b51eb493db1",
   "metadata": {},
   "source": [
    "# H) Calcule y grafique el momento angular en el eje z (Lz). Se conserva?\n",
    "\n",
    "Dado que no hay torques externos. El momento angular debe conservarse."
   ]
  },
  {
   "cell_type": "code",
   "execution_count": 16,
   "id": "7d3265db-4a2c-4211-b6b6-3ec3c57df153",
   "metadata": {},
   "outputs": [],
   "source": [
    "MomentoAngular = 0\n",
    "EnergiaCinetica = 0\n",
    "EnergiaPotencial = 0\n",
    "for particula in Particles:\n",
    "    MomentoAngular = np.add(MomentoAngular, particula.GetAngularMomentum(scale))\n",
    "    EnergiaCinetica += particula.GetKineticEnergy(scale)\n",
    "    EnergiaPotencial += particula.GetPotential(scale)/2\n",
    "EnergiaMecanica = EnergiaCinetica + EnergiaPotencial"
   ]
  },
  {
   "cell_type": "code",
   "execution_count": 17,
   "id": "f6e8572a-a79e-4d6d-bf81-4de0c5c232f1",
   "metadata": {},
   "outputs": [
    {
     "data": {
      "text/plain": [
       "<matplotlib.legend.Legend at 0x16dd6f26e20>"
      ]
     },
     "execution_count": 17,
     "metadata": {},
     "output_type": "execute_result"
    },
    {
     "data": {
      "image/png": "[encoded data removed]",
      "text/plain": [
       "<Figure size 1000x500 with 2 Axes>"
      ]
     },
     "metadata": {},
     "output_type": "display_data"
    }
   ],
   "source": [
    "fig4 = plt.figure(figsize=(10,5))\n",
    "ax4 = fig4.add_subplot(121)\n",
    "ax5 = fig4.add_subplot(122)\n",
    "\n",
    "ax4.plot(t1,MomentoAngular,label=\"$L_z$\")\n",
    "ax4.plot(0,0)\n",
    "\n",
    "ax5.plot(t1,EnergiaCinetica,label='Energia Cinetica')\n",
    "ax5.plot(t1,EnergiaPotencial,label='Energia Potencial')\n",
    "ax5.plot(t1,EnergiaMecanica,label='Energia Mecanica')\n",
    "\n",
    "ax4.legend()\n",
    "ax5.legend()"
   ]
  },
  {
   "cell_type": "markdown",
   "id": "fb3531df-d771-4dba-a5ec-90b2a41bbf51",
   "metadata": {},
   "source": [
    "# I) Si este sistema que se mueve en 2D se extendiera a 3D, las partículas se mantendrían en el mismo plano de movimiento o se moveran en todo el volumen?\n",
    "\n",
    "Creo que si ocuparia todo el volumen. Quizas en una situación demasiado extraña en donde ninguna colision se diera este seguiria exactamente las mismas trayectorias que las que tiene en 2D. Sin embargo, una vez se tiene un choque la propia geometria de las particulas favoreceria los movimientos en direcciones que en este momento le resultan imposibles. Es como cuando uno tira dos pelotas a que se choquen entre si. Si estan sobre una mesa (de billar por ejemplo lo mas probable es que sigan en ese mismo plano. Pero si estan en el aire lo mas probable es que varien de dirección y se muevan en todos los ejes de libertad que tengan"
   ]
  }
 ],
 "metadata": {
  "kernelspec": {
   "display_name": "Python 3 (ipykernel)",
   "language": "python",
   "name": "python3"
  },
  "language_info": {
   "codemirror_mode": {
    "name": "ipython",
    "version": 3
   },
   "file_extension": ".py",
   "mimetype": "text/x-python",
   "name": "python",
   "nbconvert_exporter": "python",
   "pygments_lexer": "ipython3",
   "version": "3.9.7"
  }
 },
 "nbformat": 4,
 "nbformat_minor": 5
}
