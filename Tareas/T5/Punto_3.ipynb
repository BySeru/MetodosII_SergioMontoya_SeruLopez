{
  "nbformat": 4,
  "nbformat_minor": 0,
  "metadata": {
    "colab": {
      "provenance": []
    },
    "kernelspec": {
      "name": "python3",
      "display_name": "Python 3"
    },
    "language_info": {
      "name": "python"
    }
  },
  "cells": [
    {
      "cell_type": "markdown",
      "source": [
        "# Punto 3\n",
        "---"
      ],
      "metadata": {
        "id": "fGCEVtdF4_hX"
      }
    },
    {
      "cell_type": "markdown",
      "source": [
        "Tomemos $x=\\rho\\cos(\\phi),\\,y=\\rho\\sin(\\phi):\\rho=\\sqrt{(x^2+y^2}\\,\\wedge\\,\\phi=arctan(\\frac{y}{x})$. Luego, podemos decir que:\n",
        "\n",
        "$$\n",
        "\\frac{\\partial^2u}{\\partial t^2}=\\alpha^2\\left[\\frac{\\partial}{\\partial x}\\left(\\frac{\\partial u}{\\partial x}\\right)+\\frac{\\partial}{\\partial y}\\left(\\frac{\\partial u}{\\partial y}\\right)\\right]\n",
        "$$\n",
        "$$\n",
        "=\\alpha^2\\left[\\frac{\\partial}{\\partial x}\\left(\\frac{\\partial u}{\\partial\\rho}\\frac{\\partial\\rho}{\\partial x}+\\frac{\\partial u}{\\partial\\phi}\\frac{\\partial\\phi}{\\partial x}\\right)+\\frac{\\partial}{\\partial y}\\left(\\frac{\\partial u}{\\partial\\rho}\\frac{\\partial\\rho}{\\partial y}+\\frac{\\partial u}{\\partial\\phi}\\frac{\\partial\\phi}{\\partial y}\\right)\\right]\n",
        "$$\n",
        "$$\n",
        "=\\alpha^2\\left[\\frac{\\partial}{\\partial\\rho}\\left(\\frac{\\partial u}{\\partial x}\\right)\\frac{\\partial\\rho}{\\partial x}+\\frac{\\partial}{\\partial\\phi}\\left(\\frac{\\partial u}{\\partial x}\\right)\\frac{\\partial\\phi}{\\partial x}+\\frac{\\partial}{\\partial\\rho}\\left(\\frac{\\partial u}{\\partial y}\\right)\\frac{\\partial\\rho}{\\partial y}+\\frac{\\partial}{\\partial\\phi}\\left(\\frac{\\partial u}{\\partial y}\\right)\\frac{\\partial\\phi}{\\partial y}\\right].\n",
        "$$\n",
        "\n",
        "Luego, podemos denotar las derivadas respecto a $x$ y $y$ como:\n",
        "\n",
        "$$\n",
        "\\frac{\\partial^2 u}{\\partial x^2}=\\left[ \\frac{\\partial}{\\partial\\rho}\\left(\\frac{\\partial u}{\\partial x}\\right)\\frac{\\partial\\rho}{\\partial x} + \\frac{\\partial}{\\partial\\phi}\\left(\\frac{\\partial u}{\\partial x}\\right)\\frac{\\partial\\phi}{\\partial x} \\right]\n",
        "$$\n",
        "$$\n",
        "=\\frac{\\partial}{\\partial\\phi}\\left(\\frac{\\partial u}{\\partial\\rho}\\cos(\\phi)-\\frac{\\partial u}{\\partial\\phi}\\frac{\\sin(\\phi)}{\\rho}\\right)\\cos(\\phi) + \\frac{\\partial}{\\partial\\rho}\\left(\\frac{\\partial u}{\\partial\\rho}\\cos(\\phi)-\\frac{\\partial u}{\\partial\\phi}\\frac{\\sin(\\phi)}{\\rho}\\right)\\left(\\frac{-\\sin(\\phi)}{\\rho}\\right)\n",
        "$$\n",
        "$$\n",
        "\\implies\\frac{\\partial^2 u}{\\partial x^2}=\\frac{\\partial^2u}{\\partial\\rho^2}\\cos^2(\\phi)-2\\frac{\\partial^2u}{\\partial\\rho\\phi}\\frac{\\sin(2\\phi)}{\\rho}+\\frac{\\partial^2u}{\\partial\\phi^2}\\frac{\\sin^2(\\phi)}{\\rho^2}+\\frac{\\partial u}{\\partial\\rho}\\frac{\\cos^2(\\phi)}{\\rho}.\n",
        "$$\n",
        "De modo similar podemos decir que:\n",
        "$$\n",
        "\\frac{\\partial^2 u}{\\partial y^2}=\\frac{\\partial^2u}{\\partial\\rho^2}\\cos^2(\\phi)+2\\frac{\\partial^2u}{\\partial\\rho\\phi}\\frac{\\sin(2\\phi)}{\\rho}+\\frac{\\partial^2u}{\\partial\\phi^2}\\frac{\\cos^2(\\phi)}{\\rho^2}+\\frac{\\partial u}{\\partial\\rho}\\frac{\\sin^2(\\phi)}{\\rho}.\n",
        "$$\n",
        "Por tanto podemos reemplazar, tal que:\n",
        "$$\n",
        "\\frac{\\partial^2u}{\\partial t^2}= \\alpha^2\\left[\\frac{\\partial^2u}{\\partial\\rho^2}+\\frac{\\partial^2u}{\\partial\\phi^2}+\\frac{1}{\\rho}\\frac{\\partial u}{\\partial\\rho}\\right].\n",
        "$$\n",
        "Ahora bien, se tiene que:"
      ],
      "metadata": {
        "id": "5wRXTHgV5Otp"
      }
    },
    {
      "cell_type": "markdown",
      "source": [
        "m"
      ],
      "metadata": {
        "id": "k8IprvZwLumu"
      }
    },
    {
      "cell_type": "markdown",
      "source": [
        "Luego,"
      ],
      "metadata": {
        "id": "u8GdW6hhLvwa"
      }
    },
    {
      "cell_type": "markdown",
      "source": [
        "$$\\frac{u_{i,j}^{l+1}}{(\\Delta t)^2}=\\frac{2u_{i,j}^{l}-u_{i,j}^{l-1}}{(\\Delta t)^2} +  (\\alpha^2)\\frac{u_{i+1,j}^{l}-2u_{i,j}^{l}+u_{i-1,j}^{l}}{(\\Delta \\rho)^2} + \\left(\\frac{\\alpha^2}{\\rho[i]^2}\\right)\\frac{u_{i,j+1}^{l}-2u_{i,j}^{l}+u_{i,j-1}^{l}}{(\\Delta \\phi)^2} + \\left(\\frac{\\alpha^2}{\\rho[i]}\\right)\\frac{u_{i,j}^{l}-u_{i-1,j}^{l}}{\\Delta \\rho}$$\n",
        "$$\\implies u_{i,j}^{l+1}= \\left(\\frac{\\alpha\\Delta t}{\\Delta \\rho}\\right)^2 \\left[\\left(u_{i+1,j}^{l}-2u_{i,j}^{l}+u_{i-1,j}^{l}\\right) + \\left(\\frac{\\Delta \\rho}{(\\Delta \\phi)}\\right)^2\\left(\\frac{1}{(\\Delta \\phi\\rho[i])}\\right)^2\\left(u_{i,j+1}^{l}-2u_{i,j}^{l}+u_{i,j-1}^{l}\\right) + \\left(\\frac{\\Delta \\rho}{\\rho[i]}\\right)\\left(u_{i,j}^{l}-u_{i-1,j}^{l}\\right)\\right] + 2u_{i,j}^{l}-u_{i,j}^{l-1}$$"
      ],
      "metadata": {
        "id": "_5KjmIpjL5fU"
      }
    },
    {
      "cell_type": "markdown",
      "source": [
        "Por tanto si tomamos $\\lambda=\\frac{\\Delta\\rho}{\\Delta\\phi}\\,\\wedge\\,v=\\alpha\\frac{\\Delta t}{\\Delta\\rho}$, se tiene que:"
      ],
      "metadata": {
        "id": "X-B6SEa1L5p1"
      }
    },
    {
      "cell_type": "markdown",
      "source": [
        "$$\n",
        "u_{i,j}^{l+1} = \\textit{v}^2 \\big[u_{i+1,j}^{l}-2u_{i,j}^{l}+u_{i-1,j}^{l} + \\frac{\\Delta \\rho}{\\rho[i]}(u_{i,j}^{l}-u_{i-1,j}^{l}) + \\left(\\frac{\\lambda}{\\rho[i]} \\right)^2 (u_{i,j+1}^{l}-2u_{i,j}^{l}+u_{i,j-1}^{l}) \\big] +2u_{i,j}^{l}-u_{i,j}^{l-1}.\n",
        "$$"
      ],
      "metadata": {
        "id": "eMZIeYnTMBNv"
      }
    }
  ]
}
