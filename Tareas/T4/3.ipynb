{
 "cells": [
  {
   "cell_type": "markdown",
   "metadata": {},
   "source": [
    "# Librerías\n",
    "---\n",
    "Lo iba a hacer a mano, pero no aguanta."
   ]
  },
  {
   "cell_type": "code",
   "execution_count": 1,
   "metadata": {},
   "outputs": [],
   "source": [
    "import numpy as np\n",
    "import sympy as sym"
   ]
  },
  {
   "cell_type": "markdown",
   "metadata": {},
   "source": [
    "## Def. Funciones:\n",
    "---"
   ]
  },
  {
   "cell_type": "code",
   "execution_count": 2,
   "metadata": {},
   "outputs": [],
   "source": [
    "def Lagrange(x,xi,j):\n",
    "    prod = 1.0\n",
    "    n = len(xi)\n",
    "    \n",
    "    for i in range(n):\n",
    "        if i != j:\n",
    "            prod *= (x - xi[i])/(xi[j]-xi[i])\n",
    "            \n",
    "    return prod\n",
    "            \n",
    "def interpolate(x,xi,yi):\n",
    "    Sum = 0\n",
    "    n = len(xi)\n",
    "    \n",
    "    for j in range(n):\n",
    "        Sum += yi[j]*Lagrange(x,xi,j)\n",
    "    \n",
    "    return Sum"
   ]
  },
  {
   "cell_type": "markdown",
   "metadata": {},
   "source": [
    "## Def. Variables:\n",
    "---"
   ]
  },
  {
   "cell_type": "code",
   "execution_count": 3,
   "metadata": {},
   "outputs": [],
   "source": [
    "h, t ,t_n, f1, f2, f3, f4= sym.symbols(\"h,t,t_n,f1,f2,f3,f4\",real=True)"
   ]
  },
  {
   "cell_type": "markdown",
   "metadata": {},
   "source": [
    "### Para 3 puntos:"
   ]
  },
  {
   "cell_type": "code",
   "execution_count": 4,
   "metadata": {},
   "outputs": [
    {
     "data": {
      "text/latex": [
       "$\\displaystyle \\frac{0.5 f_{1} t \\left(- h + t\\right)}{h^{2}} - \\frac{1.0 f_{2} \\left(- h + t\\right) \\left(h + t\\right)}{h^{2}} + \\frac{0.5 f_{3} t \\left(h + t\\right)}{h^{2}}$"
      ],
      "text/plain": [
       "0.5*f1*t*(-h + t)/h**2 - 1.0*f2*(-h + t)*(h + t)/h**2 + 0.5*f3*t*(h + t)/h**2"
      ]
     },
     "execution_count": 4,
     "metadata": {},
     "output_type": "execute_result"
    }
   ],
   "source": [
    "t_3 = [-h,0,h]\n",
    "\n",
    "poly_3 = interpolate(t,t_3,[f1,f2,f3])\n",
    "poly_3"
   ]
  },
  {
   "cell_type": "code",
   "execution_count": 5,
   "metadata": {},
   "outputs": [
    {
     "data": {
      "text/latex": [
       "$\\displaystyle \\frac{h \\left(- f_{1} + 8 f_{2} + 5 f_{3}\\right)}{12}$"
      ],
      "text/plain": [
       "h*(-f1 + 8*f2 + 5*f3)/12"
      ]
     },
     "execution_count": 5,
     "metadata": {},
     "output_type": "execute_result"
    }
   ],
   "source": [
    "ip=sym.integrate(poly_3,(t,0,h))\n",
    "ip=sym.nsimplify(ip,tolerance=0.1)\n",
    "ip=sym.simplify(ip)\n",
    "ip"
   ]
  },
  {
   "cell_type": "markdown",
   "metadata": {},
   "source": [
    "### Para 4 puntos:"
   ]
  },
  {
   "cell_type": "code",
   "execution_count": 6,
   "metadata": {},
   "outputs": [
    {
     "data": {
      "text/latex": [
       "$\\displaystyle - \\frac{0.166666666666667 f_{1} t \\left(- h + t\\right) \\left(h + t\\right)}{h^{3}} + \\frac{0.5 f_{2} t \\left(- h + t\\right) \\left(2 h + t\\right)}{h^{3}} - \\frac{0.5 f_{3} \\left(- h + t\\right) \\left(h + t\\right) \\left(2 h + t\\right)}{h^{3}} + \\frac{0.166666666666667 f_{4} t \\left(h + t\\right) \\left(2 h + t\\right)}{h^{3}}$"
      ],
      "text/plain": [
       "-0.166666666666667*f1*t*(-h + t)*(h + t)/h**3 + 0.5*f2*t*(-h + t)*(2*h + t)/h**3 - 0.5*f3*(-h + t)*(h + t)*(2*h + t)/h**3 + 0.166666666666667*f4*t*(h + t)*(2*h + t)/h**3"
      ]
     },
     "execution_count": 6,
     "metadata": {},
     "output_type": "execute_result"
    }
   ],
   "source": [
    "t_4=[-2*h,-h,0,h]\n",
    "\n",
    "poly_4=interpolate(t,t_4,[f1,f2,f3,f4])\n",
    "poly_4"
   ]
  },
  {
   "cell_type": "code",
   "execution_count": 7,
   "metadata": {},
   "outputs": [
    {
     "data": {
      "text/latex": [
       "$\\displaystyle \\frac{h \\left(f_{1} - 5 f_{2} + 19 f_{3} + 9 f_{4}\\right)}{24}$"
      ],
      "text/plain": [
       "h*(f1 - 5*f2 + 19*f3 + 9*f4)/24"
      ]
     },
     "execution_count": 7,
     "metadata": {},
     "output_type": "execute_result"
    }
   ],
   "source": [
    "ip=sym.integrate(poly_4,(t,0,h))\n",
    "ip=sym.nsimplify(ip,tolerance=0.1)\n",
    "ip=sym.simplify(ip)\n",
    "ip"
   ]
  }
 ],
 "metadata": {
  "kernelspec": {
   "display_name": "Python 3",
   "language": "python",
   "name": "python3"
  },
  "language_info": {
   "codemirror_mode": {
    "name": "ipython",
    "version": 3
   },
   "file_extension": ".py",
   "mimetype": "text/x-python",
   "name": "python",
   "nbconvert_exporter": "python",
   "pygments_lexer": "ipython3",
   "version": "3.9.7"
  }
 },
 "nbformat": 4,
 "nbformat_minor": 2
}
