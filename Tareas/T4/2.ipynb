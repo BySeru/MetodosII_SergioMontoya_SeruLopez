{
 "cells": [
  {
   "cell_type": "markdown",
   "metadata": {},
   "source": [
    "# Librerías\n",
    "---\n",
    "Lo iba a hacer a mano, pero no aguanta."
   ]
  },
  {
   "cell_type": "code",
   "execution_count": 1,
   "metadata": {},
   "outputs": [],
   "source": [
    "import numpy as np\n",
    "import sympy as sym"
   ]
  },
  {
   "cell_type": "markdown",
   "metadata": {},
   "source": [
    "## Def. Funciones:\n",
    "---"
   ]
  },
  {
   "cell_type": "code",
   "execution_count": 2,
   "metadata": {},
   "outputs": [],
   "source": [
    "def Lagrange(x,xi,j):\n",
    "    prod = 1.0\n",
    "    n = len(xi)\n",
    "    \n",
    "    for i in range(n):\n",
    "        if i != j:\n",
    "            prod *= (x - xi[i])/(xi[j]-xi[i])\n",
    "            \n",
    "    return prod\n",
    "            \n",
    "def interpolate(x,xi,yi):\n",
    "    Sum = 0\n",
    "    n = len(xi)\n",
    "    \n",
    "    for j in range(n):\n",
    "        Sum += yi[j]*Lagrange(x,xi,j)\n",
    "    \n",
    "    return Sum"
   ]
  },
  {
   "cell_type": "markdown",
   "metadata": {},
   "source": [
    "## Def. Variables:\n",
    "---"
   ]
  },
  {
   "cell_type": "code",
   "execution_count": 3,
   "metadata": {},
   "outputs": [],
   "source": [
    "h, t ,t_n, f1, f2, f3, f4= sym.symbols(\"h,t,t_n,f1,f2,f3,f4\",real=True)"
   ]
  },
  {
   "cell_type": "markdown",
   "metadata": {},
   "source": [
    "### Para 3 puntos:"
   ]
  },
  {
   "cell_type": "code",
   "execution_count": 4,
   "metadata": {},
   "outputs": [
    {
     "data": {
      "text/latex": [
       "$\\displaystyle \\frac{0.5 f_{1} \\left(h + t\\right) \\left(2 h + t\\right)}{h^{2}} - \\frac{1.0 f_{2} t \\left(2 h + t\\right)}{h^{2}} + \\frac{0.5 f_{3} t \\left(h + t\\right)}{h^{2}}$"
      ],
      "text/plain": [
       "0.5*f1*(h + t)*(2*h + t)/h**2 - 1.0*f2*t*(2*h + t)/h**2 + 0.5*f3*t*(h + t)/h**2"
      ]
     },
     "execution_count": 4,
     "metadata": {},
     "output_type": "execute_result"
    }
   ],
   "source": [
    "t_3 = [-2*h,-h,0]\n",
    "\n",
    "poly_3 = interpolate(t,t_3,[f3,f2,f1])\n",
    "poly_3"
   ]
  },
  {
   "cell_type": "code",
   "execution_count": 5,
   "metadata": {},
   "outputs": [
    {
     "data": {
      "text/latex": [
       "$\\displaystyle \\frac{f_{1} \\left(h + t\\right) \\left(2 h + t\\right) - 2 f_{2} t \\left(2 h + t\\right) + f_{3} t \\left(h + t\\right)}{2 h}$"
      ],
      "text/plain": [
       "(f1*(h + t)*(2*h + t) - 2*f2*t*(2*h + t) + f3*t*(h + t))/(2*h)"
      ]
     },
     "execution_count": 5,
     "metadata": {},
     "output_type": "execute_result"
    }
   ],
   "source": [
    "ip=sym.integrate(poly_3,(t_n,0,h))\n",
    "ip=sym.nsimplify(ip,tolerance=0.1)\n",
    "ip=sym.simplify(ip)\n",
    "ip"
   ]
  },
  {
   "cell_type": "markdown",
   "metadata": {},
   "source": [
    "### Para 4 puntos:"
   ]
  },
  {
   "cell_type": "code",
   "execution_count": 6,
   "metadata": {},
   "outputs": [
    {
     "data": {
      "text/latex": [
       "$\\displaystyle \\frac{0.166666666666667 f_{1} \\left(h + t_{n}\\right) \\left(2 h + t_{n}\\right) \\left(3 h + t_{n}\\right)}{h^{3}} - \\frac{0.5 f_{2} t_{n} \\left(2 h + t_{n}\\right) \\left(3 h + t_{n}\\right)}{h^{3}} + \\frac{0.5 f_{3} t_{n} \\left(h + t_{n}\\right) \\left(3 h + t_{n}\\right)}{h^{3}} - \\frac{0.166666666666667 f_{4} t_{n} \\left(h + t_{n}\\right) \\left(2 h + t_{n}\\right)}{h^{3}}$"
      ],
      "text/plain": [
       "0.166666666666667*f1*(h + t_n)*(2*h + t_n)*(3*h + t_n)/h**3 - 0.5*f2*t_n*(2*h + t_n)*(3*h + t_n)/h**3 + 0.5*f3*t_n*(h + t_n)*(3*h + t_n)/h**3 - 0.166666666666667*f4*t_n*(h + t_n)*(2*h + t_n)/h**3"
      ]
     },
     "execution_count": 6,
     "metadata": {},
     "output_type": "execute_result"
    }
   ],
   "source": [
    "t=[-3*h,-2*h,-1*h,0*h]\n",
    "\n",
    "poly_4=interpolate(t_n,t,[f4,f3,f2,f1])\n",
    "poly_4"
   ]
  },
  {
   "cell_type": "code",
   "execution_count": 7,
   "metadata": {},
   "outputs": [
    {
     "data": {
      "text/latex": [
       "$\\displaystyle \\frac{h \\left(55 f_{1} - 59 f_{2} + 37 f_{3} - 9 f_{4}\\right)}{24}$"
      ],
      "text/plain": [
       "h*(55*f1 - 59*f2 + 37*f3 - 9*f4)/24"
      ]
     },
     "execution_count": 7,
     "metadata": {},
     "output_type": "execute_result"
    }
   ],
   "source": [
    "ip=sym.integrate(poly_4,(t_n,0,h))\n",
    "ip=sym.nsimplify(ip,tolerance=0.1)\n",
    "ip=sym.simplify(ip)\n",
    "ip"
   ]
  }
 ],
 "metadata": {
  "kernelspec": {
   "display_name": "Python 3",
   "language": "python",
   "name": "python3"
  },
  "language_info": {
   "codemirror_mode": {
    "name": "ipython",
    "version": 3
   },
   "file_extension": ".py",
   "mimetype": "text/x-python",
   "name": "python",
   "nbconvert_exporter": "python",
   "pygments_lexer": "ipython3",
   "version": "3.9.7"
  }
 },
 "nbformat": 4,
 "nbformat_minor": 2
}
