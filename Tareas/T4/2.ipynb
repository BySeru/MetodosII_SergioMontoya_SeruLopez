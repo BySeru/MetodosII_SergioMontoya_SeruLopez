{
 "cells": [
  {
   "cell_type": "markdown",
   "metadata": {},
   "source": [
    "# Librerías\n",
    "---"
   ]
  },
  {
   "cell_type": "code",
   "execution_count": 1,
   "metadata": {},
   "outputs": [],
   "source": [
    "import numpy as np\n",
    "import sympy as sym\n",
    "import matplotlib.pyplot as plt\n",
    "from scipy.integrate import odeint"
   ]
  },
  {
   "cell_type": "markdown",
   "metadata": {},
   "source": [
    "## Def. Funciones\n",
    "---"
   ]
  },
  {
   "cell_type": "code",
   "execution_count": 6,
   "metadata": {},
   "outputs": [],
   "source": [
    "def LagrangeBase(x,xi,j):\n",
    "    prod = 1.0\n",
    "    n = len(xi)\n",
    "    \n",
    "    for i in range(n):\n",
    "        if i != j:\n",
    "            prod *= (x - xi[i])/(xi[j]-xi[i])\n",
    "            \n",
    "    return prod\n",
    "            \n",
    "def interpolate(x,xi,yi):\n",
    "    Sum = 0\n",
    "    n = len(xi)\n",
    "    \n",
    "    for j in range(n):\n",
    "        Sum += yi[j]*LagrangeBase(x,xi,j)\n",
    "        \n",
    "    return Sum"
   ]
  },
  {
   "cell_type": "markdown",
   "metadata": {},
   "source": [
    "## Def. Variables:\n",
    "---"
   ]
  },
  {
   "cell_type": "code",
   "execution_count": 7,
   "metadata": {},
   "outputs": [],
   "source": [
    "h, t ,t_n, f1, f2, f3= sym.symbols(\"h,t,t_n,f1,f2,f3\",real=True)"
   ]
  },
  {
   "cell_type": "markdown",
   "metadata": {},
   "source": [
    "### Para 3 puntos:"
   ]
  },
  {
   "cell_type": "code",
   "execution_count": 8,
   "metadata": {},
   "outputs": [
    {
     "data": {
      "text/latex": [
       "$\\displaystyle \\frac{0.5 f_{1} \\left(h + t\\right) \\left(2 h + t\\right)}{h^{2}} - \\frac{1.0 f_{2} t \\left(2 h + t\\right)}{h^{2}} + \\frac{0.5 f_{3} t \\left(h + t\\right)}{h^{2}}$"
      ],
      "text/plain": [
       "0.5*f1*(h + t)*(2*h + t)/h**2 - 1.0*f2*t*(2*h + t)/h**2 + 0.5*f3*t*(h + t)/h**2"
      ]
     },
     "execution_count": 8,
     "metadata": {},
     "output_type": "execute_result"
    }
   ],
   "source": [
    "t_3 = [-2*h,-h,0]\n",
    "\n",
    "poly_3 = interpolate(t,t_3,[f3,f2,f1])\n",
    "poly_3"
   ]
  },
  {
   "cell_type": "code",
   "execution_count": null,
   "metadata": {},
   "outputs": [],
   "source": [
    "ip=sym.integrate(Polinomio_interpolador,(t_n,0,h))\n",
    "ip=sym.nsimplify(Lagrange,tolerance=0.1)\n",
    "ip=sym.simplify(Lagrange)\n",
    "ip"
   ]
  },
  {
   "cell_type": "markdown",
   "metadata": {},
   "source": [
    "### Para 4 puntos:"
   ]
  },
  {
   "cell_type": "code",
   "execution_count": null,
   "metadata": {},
   "outputs": [],
   "source": []
  }
 ],
 "metadata": {
  "kernelspec": {
   "display_name": "Python 3",
   "language": "python",
   "name": "python3"
  },
  "language_info": {
   "codemirror_mode": {
    "name": "ipython",
    "version": 3
   },
   "file_extension": ".py",
   "mimetype": "text/x-python",
   "name": "python",
   "nbconvert_exporter": "python",
   "pygments_lexer": "ipython3",
   "version": "3.9.7"
  }
 },
 "nbformat": 4,
 "nbformat_minor": 2
}
