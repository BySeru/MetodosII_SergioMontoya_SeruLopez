{
 "cells": [
  {
   "cell_type": "markdown",
   "metadata": {},
   "source": [
    "# Punto 4.\n",
    "---\n",
    "Dado el método de Verlet conocemos que:\n",
    "$\n",
    "\\begin{equation}\n",
    "    x_{n+1}=x_n-v_n(dt)+\\frac{1}{2}a_n(dt)^2,\n",
    "\\end{equation}\n",
    "$\n",
    "$\n",
    "\\begin{equation}\n",
    "    v_{n+1} = v_n + \\frac{1}{2} (a_n + a_{n+1}) dt\\,:\\,v_n=\\frac{x_{n+1}-x_{n}}{dt}.\n",
    "\\end{equation}\n",
    "$\n",
    "Luego, por definición del Jacobiano sabemos que este se puede encontrar a partir de,\n",
    "$\n",
    "\\begin{equation}\n",
    "    J=\\frac{\\partial x_{n+1}}{\\partial x_n}\\frac{\\partial v_{n+1}}{\\partial v_n} -\\frac{\\partial x_{n+1}}{\\partial v_n}\\frac{\\partial v_{n+1}}{\\partial x_n}.\n",
    "\\end{equation}\n",
    "$\n",
    "Donde,\n",
    "$\n",
    "\\begin{equation}\n",
    "    \\frac{\\partial x_{n+1}}{\\partial x_n} = 1,\\, \\frac{\\partial v_{n+1}}{\\partial v_n} = 0,\\, \\frac{\\partial x_{n+1}}{\\partial v_n} = dt,\\, \\frac{\\partial v_{n+1}}{\\partial x_n} = -\\frac{1}{dt}.\n",
    "\\end{equation}\n",
    "$\n",
    "\n",
    "$$\\implies J=(1)(0) - (dt)\\left(-\\frac{1}{dt}\\right) = -(-1)=1.$$\n",
    "\n",
    "$\\therefore$ el método de Verlet es simpléctico."
   ]
  }
 ],
 "metadata": {
  "language_info": {
   "name": "python"
  }
 },
 "nbformat": 4,
 "nbformat_minor": 2
}
