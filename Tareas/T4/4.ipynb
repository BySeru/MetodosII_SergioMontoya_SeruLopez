{
 "cells": [
  {
   "cell_type": "code",
   "execution_count": null,
   "metadata": {},
   "outputs": [],
   "source": []
  },
  {
   "cell_type": "markdown",
   "metadata": {},
   "source": [
    "4. **Integrador simplético I:** Muestre que el método de Verlet es simpléctico, es decir, el\n",
    "Jacobiano inducido en el método es igual a uno.\n",
    "$$J=\\frac{\\partial x_{n+1}}{\\partial x_n}\\frac{\\partial v_{n+1}}{\\partial v_n} -\\frac{\\partial x_{n+1}}{\\partial v_n}\\frac{\\partial v_{n+1}}{\\partial x_n}=1$$\n",
    "\n",
    "**Respuesta:** El método de Verlet es un método numérico utilizado para integrar las ecuaciones de movimiento de Newton, donde sus respectivas ecuaciones de iteración son: \n",
    "$$ x_{n+1}=x_n-v_n(dt)+\\frac{1}{2}a_n(dt)^2$$\n",
    "$$v_{n+1} = v_n + \\frac{1}{2} (a_n + a_{n+1}) dt \\quad \\text{donde} \\quad v_n=\\frac{x_{n+1}-x_{n}}{dt}$$\n",
    "\n",
    "donde $dt$ el paso de tiempo, $a_n$ y $v_n$ es la aceleración y la velocidad en el paso n. Calculando las derivadas parciales necesarias para obtener el Jacobiano tenemos que:\n",
    "\n",
    "$$\\frac{\\partial x_{n+1}}{\\partial x_n} = 1\\quad \\quad \\frac{\\partial x_{n+1}}{\\partial v_n} = dt\\quad \\quad \\frac{\\partial v_{n+1}}{\\partial x_n} = -\\frac{1}{dt}\\quad \\quad \\frac{\\partial v_{n+1}}{\\partial v_n} = 0$$\n",
    "\n",
    "Sustituyendo estas derivadas en la ecuación del Jacobiano obtenemos:\n",
    "\n",
    "$$J=\\frac{\\partial x_{n+1}}{\\partial x_n}\\frac{\\partial v_{n+1}}{\\partial v_n} -\\frac{\\partial x_{n+1}}{\\partial v_n}\\frac{\\partial v_{n+1}}{\\partial x_n}=(1)(0) - (dt)\\left(-\\frac{1}{dt}\\right) = 1$$\n",
    "\n",
    "Por ende, queda mostrado que el método de Verlet es simpléctico, lo que significa que preserva la estructura simpléctica del espacio de fase."
   ]
  }
 ],
 "metadata": {
  "language_info": {
   "name": "python"
  }
 },
 "nbformat": 4,
 "nbformat_minor": 2
}
