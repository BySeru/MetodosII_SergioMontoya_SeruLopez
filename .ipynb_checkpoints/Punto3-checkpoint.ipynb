{
 "cells": [
  {
   "cell_type": "code",
   "execution_count": 1,
   "id": "0f824313-2959-443e-aae3-21ec3de9ed5c",
   "metadata": {},
   "outputs": [],
   "source": [
    "import numpy as np\n",
    "import matplotlib.pyplot as plt\n",
    "import matplotlib.animation as anim\n",
    "from tqdm import tqdm"
   ]
  },
  {
   "cell_type": "code",
   "execution_count": 2,
   "id": "07c14f25-ff9d-4903-8112-06c125cb190f",
   "metadata": {},
   "outputs": [],
   "source": [
    "class Particle:\n",
    "    \n",
    "    def __init__(self, r0, v0, a0, t, m=1, radius=2., Id=0):\n",
    "        \n",
    "        self.dt = t[1] - t[0]\n",
    "        \n",
    "        \n",
    "        # Atributos instantaneos\n",
    "        self.r = r0\n",
    "        self.v = v0\n",
    "        self.a = a0\n",
    "        \n",
    "        self.m = m\n",
    "        self.radius = radius\n",
    "        self.Id = Id\n",
    "        \n",
    "        \n",
    "        self.p = self.m*self.v\n",
    "        \n",
    "        self.f = self.m*self.a\n",
    "        \n",
    "        # Historial\n",
    "        \n",
    "        self.R = np.zeros((len(t),len(r0)))\n",
    "        self.V = np.zeros_like(self.R)\n",
    "        self.A = np.zeros_like(self.R)\n",
    "        \n",
    "        self.F = np.zeros_like(self.R)\n",
    "        \n",
    "        self.P = np.zeros_like(self.R)\n",
    "    \n",
    "        # Fisica\n",
    "        self.K = 20.\n",
    "        \n",
    "        self.VEk = np.zeros(len(t))\n",
    "        \n",
    "    def Evolution(self,i):\n",
    "        \n",
    "        \n",
    "        self.SetPosition(i)\n",
    "        self.SetVelocity(i)\n",
    "        \n",
    "        self.a = self.f/self.m\n",
    "        \n",
    "        # Euler\n",
    "  #      self.r += self.dt*self.v\n",
    "  #      self.v += self.dt*self.a\n",
    "        \n",
    "        # Euler-Cromer\n",
    "        self.v += self.dt*self.a\n",
    "        self.r += self.dt*self.v\n",
    "        \n",
    "        \n",
    "    def CalculateForce(self,p):\n",
    "        \n",
    "        d = np.linalg.norm(self.r - p.r)\n",
    "        \n",
    "        compresion = self.radius + p.radius - d\n",
    "        \n",
    "        if compresion >= 0:\n",
    "            \n",
    "            Fn = self.K * compresion**3\n",
    "            \n",
    "            self.n = (self.r - p.r)/d     \n",
    "            self.f = np.add(self.f,Fn*self.n)\n",
    "            # Falta implementar energía potencial \n",
    "            \n",
    "     \n",
    "    # Aca debes agregar la energía potencial\n",
    "    def ResetForce(self):\n",
    "        self.f[:] = 0.\n",
    "        self.a[:] = 0.\n",
    "    \n",
    "    # Setter\n",
    "    def SetPosition(self,i):\n",
    "        self.R[i] = self.r\n",
    "    \n",
    "    def SetVelocity(self,i):\n",
    "        self.V[i] = self.v\n",
    "        self.P[i] = self.m*self.v\n",
    "        self.VEk[i] = 0.5*self.m*np.dot(self.v,self.v)\n",
    "    \n",
    "    # Getter\n",
    "    def GetPosition(self,scale=1):\n",
    "        return self.R[::scale]\n",
    "    \n",
    "    def GetVelocity(self,scale=1):\n",
    "        return self.V[::scale]\n",
    " \n",
    "    def GetMomentum(self,scale=1):\n",
    "        return self.P[::scale]\n",
    "    \n",
    "    def GetKineticEnergy(self,scale=1):\n",
    "        return self.VEk[::scale] \n",
    "    \n",
    "    # Debes agregar las paredes en este punto\n",
    "    def CheckLimits(self):\n",
    "        \n",
    "        for i in range(2):\n",
    "            \n",
    "            if self.r[i] + self.radius > 20 and self.v[i] > 0.:\n",
    "                self.v[i] = -self.v[i]\n",
    "            elif self.r[i] - self.radius < -20 and self.v[i] < 0.:\n",
    "                self.v[i] = -self.v[i]"
   ]
  },
  {
   "cell_type": "code",
   "execution_count": 3,
   "id": "f4372543-f330-4d21-a120-6a642a1eb7c6",
   "metadata": {},
   "outputs": [],
   "source": [
    "def GetParticles(N,t):\n",
    "    \n",
    "    r0 = np.array([-15.,-10.])\n",
    "    v0 = np.array([2.,0])\n",
    "    a0 = np.array([0.,0.])\n",
    "    \n",
    "    p0 = Particle(r0,v0,a0,t,m=1,radius=2,Id=0)\n",
    "    \n",
    "    Particles = [p0]\n",
    "    \n",
    "    # Aca deber agregar una rutina montecarlo para crear particulas\n",
    "    # sobre el plano con velocidades aleatorias.\n",
    "    \n",
    "    return Particles"
   ]
  },
  {
   "cell_type": "code",
   "execution_count": 4,
   "id": "d0704b2d-beca-47aa-9301-b406f846d22b",
   "metadata": {},
   "outputs": [],
   "source": [
    "dt = 0.001\n",
    "tmax = 5\n",
    "t = np.arange(0,tmax,dt)\n",
    "Particles = GetParticles(1,t)"
   ]
  },
  {
   "cell_type": "code",
   "execution_count": 5,
   "id": "f92d9c83-e087-46e6-a656-ddfe5d0253ce",
   "metadata": {},
   "outputs": [],
   "source": [
    "def RunSimulation(t,Particles):\n",
    "    \n",
    "    for it in tqdm(range(len(t)), desc='Running simulation', unit=' Steps' ):\n",
    "        \n",
    "        for i in range(len(Particles)):\n",
    "            for j in range(len(Particles)):\n",
    "                if i!=j:\n",
    "                    Particles[i].CalculateForce(Particles[j])\n",
    "        \n",
    "        for i in range(len(Particles)):\n",
    "            Particles[i].Evolution(it)\n",
    "            Particles[i].ResetForce()\n",
    "            Particles[i].CheckLimits()\n",
    "            # Aca debes agregar la interaccion con la pared\n",
    "            \n",
    "            \n",
    "    return Particles"
   ]
  },
  {
   "cell_type": "code",
   "execution_count": 6,
   "id": "1f4e587f-7172-4936-a5f3-9099d5017039",
   "metadata": {},
   "outputs": [
    {
     "name": "stderr",
     "output_type": "stream",
     "text": [
      "Running simulation: 100%|███████████████████████████████████████████████████████████████████████████████████| 5000/5000 [00:00<00:00, 30368.95 Steps/s]\n"
     ]
    }
   ],
   "source": [
    "Particles = RunSimulation(t,Particles)"
   ]
  },
  {
   "cell_type": "code",
   "execution_count": 7,
   "id": "d3c6cc88-2f4f-4a8e-aa82-dd479ac59e54",
   "metadata": {},
   "outputs": [],
   "source": [
    "# Bajamos dimensión de la simulacion\n",
    "scale = 100\n",
    "t1 = t[::scale]"
   ]
  },
  {
   "cell_type": "code",
   "execution_count": 8,
   "id": "adef791a-aa52-40f0-b956-1746ce2fdc07",
   "metadata": {},
   "outputs": [
    {
     "data": {
      "image/png": "[encoded data removed]",
      "text/plain": [
       "<Figure size 1000x500 with 2 Axes>"
      ]
     },
     "metadata": {},
     "output_type": "display_data"
    }
   ],
   "source": [
    "fig = plt.figure(figsize=(10,5))\n",
    "ax = fig.add_subplot(121)\n",
    "ax1 = fig.add_subplot(122)\n",
    "\n",
    "def init():\n",
    "    \n",
    "    ax.clear()\n",
    "    ax.set_xlim(-20,20)\n",
    "    ax.set_ylim(-20,20)\n",
    "    \n",
    "def Update(i):\n",
    "    \n",
    "    init()\n",
    "    ax.set_title(r't =  %.3f s' %(t1[i]))\n",
    "    \n",
    "    \n",
    "    # Queremos calcular la energía total de cinética\n",
    "    KE = 0. # Kinetic energy\n",
    "    \n",
    "    for p in Particles:\n",
    "        \n",
    "        x = p.GetPosition(scale)[i,0]\n",
    "        y = p.GetPosition(scale)[i,1]\n",
    "        \n",
    "        vx = p.GetVelocity(scale)[i,0]\n",
    "        vy = p.GetVelocity(scale)[i,1]\n",
    "        \n",
    "        circle = plt.Circle( (x,y), p.radius, color='r', fill=False )\n",
    "        ax.add_patch(circle)\n",
    "        \n",
    "        ax.arrow(x,y,vx,vy,color='k',head_width=0.5,length_includes_head=True)\n",
    "        \n",
    "        KE += p.GetKineticEnergy(scale)[i]\n",
    "        \n",
    "        ax1.set_title(r'Total kinetic Energy: {:.3f}'.format(KE))\n",
    "        ax1.scatter(t1[:i], p.GetKineticEnergy(scale)[:i],color='k',marker='.')\n",
    "        \n",
    "Animation = anim.FuncAnimation(fig,Update,frames=len(t1),init_func=init)"
   ]
  },
  {
   "cell_type": "code",
   "execution_count": 9,
   "id": "fc6c5a27-1446-4eba-bc36-23f984c74d2a",
   "metadata": {},
   "outputs": [],
   "source": [
    "MomentumT = Particles[0].GetMomentum(scale)"
   ]
  },
  {
   "cell_type": "code",
   "execution_count": 10,
   "id": "97103565-0548-41fd-80e8-1dcea0da7e6c",
   "metadata": {},
   "outputs": [],
   "source": [
    "for i in range(1,len(Particles)):\n",
    "    MomentumT = np.add(MomentumT,Particles[i].GetMomentum(scale))"
   ]
  },
  {
   "cell_type": "code",
   "execution_count": 11,
   "id": "8eda321d-6354-4d46-8b9a-e3820832a036",
   "metadata": {},
   "outputs": [
    {
     "data": {
      "text/plain": [
       "<matplotlib.legend.Legend at 0x7efca8aba360>"
      ]
     },
     "execution_count": 11,
     "metadata": {},
     "output_type": "execute_result"
    },
    {
     "data": {
      "image/png": "[encoded data removed]",
      "text/plain": [
       "<Figure size 1000x500 with 1 Axes>"
      ]
     },
     "metadata": {},
     "output_type": "display_data"
    }
   ],
   "source": [
    "fig3 = plt.figure(figsize=(10,5))\n",
    "ax3 = fig3.add_subplot(221)\n",
    "ax3.plot(t1,MomentumT[:,0],label='px')\n",
    "ax3.plot(t1,MomentumT[:,1],label='py')\n",
    "ax3.legend()"
   ]
  }
 ],
 "metadata": {
  "kernelspec": {
   "display_name": "Python 3 (ipykernel)",
   "language": "python",
   "name": "python3"
  },
  "language_info": {
   "codemirror_mode": {
    "name": "ipython",
    "version": 3
   },
   "file_extension": ".py",
   "mimetype": "text/x-python",
   "name": "python",
   "nbconvert_exporter": "python",
   "pygments_lexer": "ipython3",
   "version": "3.12.1"
  }
 },
 "nbformat": 4,
 "nbformat_minor": 5
}
