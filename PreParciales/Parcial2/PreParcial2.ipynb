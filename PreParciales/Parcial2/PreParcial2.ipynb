{
 "cells": [
  {
   "cell_type": "markdown",
   "id": "23196bf9",
   "metadata": {},
   "source": [
    "# Librerías —ฅ/ᐠ. ̫ .ᐟ\\ฅ —\n",
    "---"
   ]
  },
  {
   "cell_type": "code",
   "execution_count": null,
   "id": "26122b93-5541-4c54-8278-612521d4a638",
   "metadata": {},
   "outputs": [],
   "source": [
    "%matplotlib widget\n",
    "import numpy as np\n",
    "import matplotlib.pyplot as plt\n",
    "import matplotlib.animation as anim\n",
    "from tqdm import tqdm"
   ]
  },
  {
   "cell_type": "markdown",
   "id": "07d2382a",
   "metadata": {},
   "source": [
    "# Punto A\n",
    "---\n",
    "Dado que tenemos que la derivada es la pendiente de la recta tangente entonces podemos utilizar la definición de pendiente con el punto (x,y) y (d, ut) que nos daria exactamente lo que nos piden."
   ]
  },
  {
   "cell_type": "markdown",
   "id": "1f7d0a18-9af1-4f14-a8ab-e50137268732",
   "metadata": {},
   "source": [
    "# Punto B\n",
    "---\n",
    "$$\n",
    "\\begin{align}\n",
    "p &= \\frac{ut - y}{d - x}\\\\\n",
    "t &= \\frac{p(d - x)+y}{u} \\\\\n",
    "\\frac{dt}{dx} &= \\frac{1}{u}[\\dot{p}d + \\dot{(dx)} + y ]\\\\\n",
    "&= \\frac{1}{u}[\\dot{p}d - (\\dot{d}x + p\\dot{x}) + 0 ]\\\\\n",
    "&= \\frac{1}{u} [\\dot{p}d - \\dot{d}x] + 0\\\\\n",
    "&= \\frac{1}{u} [\\dot{p}d - \\dot{d}x]|\n",
    "\\end{align}\n",
    "$$"
   ]
  },
  {
   "cell_type": "code",
   "execution_count": null,
   "id": "1d58b5c4-c994-4c0b-957d-b4f16d685df5",
   "metadata": {},
   "outputs": [],
   "source": []
  }
 ],
 "metadata": {
  "kernelspec": {
   "display_name": "Python 3 (ipykernel)",
   "language": "python",
   "name": "python3"
  },
  "language_info": {
   "codemirror_mode": {
    "name": "ipython",
    "version": 3
   },
   "file_extension": ".py",
   "mimetype": "text/x-python",
   "name": "python",
   "nbconvert_exporter": "python",
   "pygments_lexer": "ipython3",
   "version": "3.9.7"
  }
 },
 "nbformat": 4,
 "nbformat_minor": 5
}
