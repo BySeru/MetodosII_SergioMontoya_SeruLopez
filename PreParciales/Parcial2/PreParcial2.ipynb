{
 "cells": [
  {
   "cell_type": "markdown",
   "id": "23196bf9",
   "metadata": {},
   "source": [
    "# Librerías —ฅ/ᐠ. ̫ .ᐟ\\ฅ —\n",
    "---"
   ]
  },
  {
   "cell_type": "code",
   "execution_count": null,
   "id": "26122b93-5541-4c54-8278-612521d4a638",
   "metadata": {},
   "outputs": [],
   "source": [
    "%matplotlib widget\n",
    "import numpy as np\n",
    "import matplotlib.pyplot as plt\n",
    "import matplotlib.animation as anim\n",
    "from tqdm import tqdm"
   ]
  },
  {
   "cell_type": "markdown",
   "id": "07d2382a",
   "metadata": {},
   "source": [
    "# Punto A\n",
    "---\n",
    "Dado que tenemos que la derivada es la pendiente de la recta tangente entonces podemos utilizar la definición de pendiente con el punto (x,y) y (d, ut) que nos daria exactamente lo que nos piden."
   ]
  },
  {
   "cell_type": "code",
   "execution_count": null,
   "id": "bb12bfc5-7b1b-4229-87ed-6f6af3ba0b9b",
   "metadata": {},
   "outputs": [],
   "source": []
  }
 ],
 "metadata": {
  "kernelspec": {
   "display_name": "Python 3 (ipykernel)",
   "language": "python",
   "name": "python3"
  },
  "language_info": {
   "codemirror_mode": {
    "name": "ipython",
    "version": 3
   },
   "file_extension": ".py",
   "mimetype": "text/x-python",
   "name": "python",
   "nbconvert_exporter": "python",
   "pygments_lexer": "ipython3",
   "version": "3.11.7"
  }
 },
 "nbformat": 4,
 "nbformat_minor": 5
}
